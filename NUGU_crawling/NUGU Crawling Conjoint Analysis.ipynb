{
 "cells": [
  {
   "cell_type": "code",
   "execution_count": 4,
   "metadata": {},
   "outputs": [],
   "source": [
    "conjoint1 <- read.table('/Users/yul/Desktop/survey_final.csv',header=T, sep=',')"
   ]
  },
  {
   "cell_type": "code",
   "execution_count": 2,
   "metadata": {},
   "outputs": [
    {
     "ename": "ERROR",
     "evalue": "Error in library(conjoint): there is no package called ‘conjoint’\n",
     "output_type": "error",
     "traceback": [
      "Error in library(conjoint): there is no package called ‘conjoint’\nTraceback:\n",
      "1. library(conjoint)",
      "2. stop(txt, domain = NA)"
     ]
    }
   ],
   "source": [
    "library(conjoint)\n",
    "caModel(conjoint[,1], conjoint1)"
   ]
  },
  {
   "cell_type": "code",
   "execution_count": null,
   "metadata": {},
   "outputs": [],
   "source": []
  },
  {
   "cell_type": "code",
   "execution_count": null,
   "metadata": {},
   "outputs": [],
   "source": []
  }
 ],
 "metadata": {
  "kernelspec": {
   "display_name": "R",
   "language": "R",
   "name": "ir"
  },
  "language_info": {
   "codemirror_mode": "r",
   "file_extension": ".r",
   "mimetype": "text/x-r-source",
   "name": "R",
   "pygments_lexer": "r",
   "version": "3.4.3"
  }
 },
 "nbformat": 4,
 "nbformat_minor": 2
}
